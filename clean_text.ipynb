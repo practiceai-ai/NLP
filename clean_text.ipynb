{
  "nbformat": 4,
  "nbformat_minor": 0,
  "metadata": {
    "colab": {
      "provenance": []
    },
    "kernelspec": {
      "name": "python3",
      "display_name": "Python 3"
    },
    "language_info": {
      "name": "python"
    }
  },
  "cells": [
    {
      "cell_type": "code",
      "execution_count": 2,
      "metadata": {
        "colab": {
          "base_uri": "https://localhost:8080/"
        },
        "id": "kjjJgRbNeDOo",
        "outputId": "ec0b7c0a-0503-4b00-b37a-4613b863fab6"
      },
      "outputs": [
        {
          "output_type": "stream",
          "name": "stdout",
          "text": [
            "Requirement already satisfied: pandas in /usr/local/lib/python3.11/dist-packages (2.2.2)\n",
            "Requirement already satisfied: scikit-learn in /usr/local/lib/python3.11/dist-packages (1.6.1)\n",
            "Requirement already satisfied: numpy>=1.23.2 in /usr/local/lib/python3.11/dist-packages (from pandas) (2.0.2)\n",
            "Requirement already satisfied: python-dateutil>=2.8.2 in /usr/local/lib/python3.11/dist-packages (from pandas) (2.9.0.post0)\n",
            "Requirement already satisfied: pytz>=2020.1 in /usr/local/lib/python3.11/dist-packages (from pandas) (2025.2)\n",
            "Requirement already satisfied: tzdata>=2022.7 in /usr/local/lib/python3.11/dist-packages (from pandas) (2025.2)\n",
            "Requirement already satisfied: scipy>=1.6.0 in /usr/local/lib/python3.11/dist-packages (from scikit-learn) (1.15.3)\n",
            "Requirement already satisfied: joblib>=1.2.0 in /usr/local/lib/python3.11/dist-packages (from scikit-learn) (1.5.1)\n",
            "Requirement already satisfied: threadpoolctl>=3.1.0 in /usr/local/lib/python3.11/dist-packages (from scikit-learn) (3.6.0)\n",
            "Requirement already satisfied: six>=1.5 in /usr/local/lib/python3.11/dist-packages (from python-dateutil>=2.8.2->pandas) (1.17.0)\n",
            "Cloning into 'NLP'...\n",
            "remote: Enumerating objects: 3, done.\u001b[K\n",
            "remote: Counting objects: 100% (3/3), done.\u001b[K\n",
            "remote: Compressing objects: 100% (2/2), done.\u001b[K\n",
            "remote: Total 3 (delta 0), reused 0 (delta 0), pack-reused 0 (from 0)\u001b[K\n",
            "Receiving objects: 100% (3/3), done.\n"
          ]
        },
        {
          "output_type": "execute_result",
          "data": {
            "text/plain": [
              "['clean_data.py', '.git']"
            ]
          },
          "metadata": {},
          "execution_count": 2
        }
      ],
      "source": [
        "# 1. Install required packages\n",
        "!pip install pandas scikit-learn\n",
        "\n",
        "# 2. Clone the repository\n",
        "!git clone https://github.com/practiceai-ai/NLP.git\n",
        "\n",
        "# 3. List repo files (optional, for demo)\n",
        "import os\n",
        "os.listdir(\"NLP\")"
      ]
    },
    {
      "cell_type": "code",
      "source": [
        "# 4. Display the clean_data.py code\n",
        "with open(\"NLP/clean_data.py\", \"r\") as f:\n",
        "    code = f.read()\n",
        "print(code)\n"
      ],
      "metadata": {
        "colab": {
          "base_uri": "https://localhost:8080/"
        },
        "id": "_OzJQbzPe3vN",
        "outputId": "41be6a9f-7e94-4192-879e-913097fe27ee"
      },
      "execution_count": 3,
      "outputs": [
        {
          "output_type": "stream",
          "name": "stdout",
          "text": [
            "import pandas as pd\n",
            "import string\n",
            "from sklearn.feature_extraction.text import ENGLISH_STOP_WORDS\n",
            "\n",
            "# Sample data\n",
            "data = {\n",
            "    \"review\": [\n",
            "        \"I LOVE this product!!\",\n",
            "        \"Worst. Purchase. Ever...\",\n",
            "        \"It was ok, not great, but not bad.\",\n",
            "        None,\n",
            "        \"I love this product!!\",  # Duplicate\n",
            "        \"THE packaging was bad & delivery late.\"\n",
            "    ]\n",
            "}\n",
            "\n",
            "df = pd.DataFrame(data)\n",
            "\n",
            "print(\"Original Data:\")\n",
            "print(df)\n",
            "print(\"\\n\")\n",
            "\n",
            "# Step 1: Handle missing values\n",
            "df = df.dropna()\n",
            "print(\"After removing missing values:\")\n",
            "print(df)\n",
            "print(\"\\n\")\n",
            "\n",
            "# Step 2: Remove duplicates\n",
            "df = df.drop_duplicates()\n",
            "print(\"After removing duplicates:\")\n",
            "print(df)\n",
            "print(\"\\n\")\n",
            "\n",
            "# Step 3: Convert text to lowercase\n",
            "df['cleaned'] = df['review'].str.lower()\n",
            "print(\"After converting to lowercase:\")\n",
            "print(df[['review', 'cleaned']])\n",
            "print(\"\\n\")\n",
            "\n",
            "# Step 4: Remove punctuation\n",
            "df['cleaned'] = df['cleaned'].str.translate(str.maketrans('', '', string.punctuation))\n",
            "print(\"After removing punctuation:\")\n",
            "print(df[['review', 'cleaned']])\n",
            "print(\"\\n\")\n",
            "\n",
            "# Step 5: Remove stopwords\n",
            "def remove_stopwords(text):\n",
            "    return ' '.join([word for word in text.split() if word not in ENGLISH_STOP_WORDS])\n",
            "\n",
            "df['cleaned'] = df['cleaned'].apply(remove_stopwords)\n",
            "print(\"After removing stopwords:\")\n",
            "print(df[['review', 'cleaned']])\n",
            "\n"
          ]
        }
      ]
    },
    {
      "cell_type": "code",
      "source": [
        "# 5. Run the clean_data.py script\n",
        "!python NLP/clean_data.py\n"
      ],
      "metadata": {
        "colab": {
          "base_uri": "https://localhost:8080/"
        },
        "id": "yir52ajoe-l8",
        "outputId": "cf43f8cc-b94e-4a25-d5c0-0e5a9380701f"
      },
      "execution_count": 4,
      "outputs": [
        {
          "output_type": "stream",
          "name": "stdout",
          "text": [
            "Original Data:\n",
            "                                   review\n",
            "0                   I LOVE this product!!\n",
            "1                Worst. Purchase. Ever...\n",
            "2      It was ok, not great, but not bad.\n",
            "3                                    None\n",
            "4                   I love this product!!\n",
            "5  THE packaging was bad & delivery late.\n",
            "\n",
            "\n",
            "After removing missing values:\n",
            "                                   review\n",
            "0                   I LOVE this product!!\n",
            "1                Worst. Purchase. Ever...\n",
            "2      It was ok, not great, but not bad.\n",
            "4                   I love this product!!\n",
            "5  THE packaging was bad & delivery late.\n",
            "\n",
            "\n",
            "After removing duplicates:\n",
            "                                   review\n",
            "0                   I LOVE this product!!\n",
            "1                Worst. Purchase. Ever...\n",
            "2      It was ok, not great, but not bad.\n",
            "4                   I love this product!!\n",
            "5  THE packaging was bad & delivery late.\n",
            "\n",
            "\n",
            "After converting to lowercase:\n",
            "                                   review                                 cleaned\n",
            "0                   I LOVE this product!!                   i love this product!!\n",
            "1                Worst. Purchase. Ever...                worst. purchase. ever...\n",
            "2      It was ok, not great, but not bad.      it was ok, not great, but not bad.\n",
            "4                   I love this product!!                   i love this product!!\n",
            "5  THE packaging was bad & delivery late.  the packaging was bad & delivery late.\n",
            "\n",
            "\n",
            "After removing punctuation:\n",
            "                                   review                               cleaned\n",
            "0                   I LOVE this product!!                   i love this product\n",
            "1                Worst. Purchase. Ever...                   worst purchase ever\n",
            "2      It was ok, not great, but not bad.       it was ok not great but not bad\n",
            "4                   I love this product!!                   i love this product\n",
            "5  THE packaging was bad & delivery late.  the packaging was bad  delivery late\n",
            "\n",
            "\n",
            "After removing stopwords:\n",
            "                                   review                      cleaned\n",
            "0                   I LOVE this product!!                 love product\n",
            "1                Worst. Purchase. Ever...               worst purchase\n",
            "2      It was ok, not great, but not bad.                 ok great bad\n",
            "4                   I love this product!!                 love product\n",
            "5  THE packaging was bad & delivery late.  packaging bad delivery late\n"
          ]
        }
      ]
    }
  ]
}