{
  "nbformat": 4,
  "nbformat_minor": 0,
  "metadata": {
    "colab": {
      "provenance": []
    },
    "kernelspec": {
      "name": "python3",
      "display_name": "Python 3"
    },
    "language_info": {
      "name": "python"
    }
  },
  "cells": [
    {
      "cell_type": "code",
      "execution_count": null,
      "metadata": {
        "id": "kjjJgRbNeDOo"
      },
      "outputs": [],
      "source": [
        "# 1. Install required packages\n",
        "!pip install pandas scikit-learn\n",
        "\n",
        "# 2. Clone the repository\n",
        "!git clone https://github.com/practiceai-ai/NLP.git\n",
        "\n",
        "# 3. List repo files (optional, for demo)\n",
        "import os\n",
        "os.listdir(\"NLP\")"
      ]
    },
    {
      "cell_type": "code",
      "source": [
        "# 4. Display the clean_data.py code\n",
        "with open(\"NLP/clean_data.py\", \"r\") as f:\n",
        "    code = f.read()\n",
        "print(code)\n"
      ],
      "metadata": {
        "id": "_OzJQbzPe3vN"
      },
      "execution_count": null,
      "outputs": []
    },
    {
      "cell_type": "code",
      "source": [
        "# 5. Run the clean_data.py script\n",
        "!python NLP/clean_data.py\n"
      ],
      "metadata": {
        "id": "yir52ajoe-l8"
      },
      "execution_count": null,
      "outputs": []
    }
  ]
}
