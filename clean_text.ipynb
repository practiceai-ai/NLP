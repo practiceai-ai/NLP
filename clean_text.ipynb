{
  "nbformat": 4,
  "nbformat_minor": 0,
  "metadata": {
    "colab": {
      "provenance": []
    },
    "kernelspec": {
      "name": "python3",
      "display_name": "Python 3"
    },
    "language_info": {
      "name": "python"
    }
  },
  "cells": [
    {
      "cell_type": "code",
      "execution_count": null,
      "metadata": {
        "id": "kjjJgRbNeDOo"
      },
      "outputs": [],
      "source": [
        "# 1. Install required packages\n",
        "!pip install pandas scikit-learn"
      ]
    },
    {
      "cell_type": "code",
      "source": [
        "# 2. data cleaning\n",
        "\n",
        "import pandas as pd\n",
        "import string\n",
        "from sklearn.feature_extraction.text import ENGLISH_STOP_WORDS\n",
        "\n",
        "# Sample data\n",
        "data = {\n",
        "    \"review\": [\n",
        "        \"I LOVE this product!!\",\n",
        "        \"Worst. Purchase. Ever...\",\n",
        "        \"It was ok, not great, but not bad.\",\n",
        "        None,\n",
        "        \"I love this product!!\",  # Duplicate\n",
        "        \"THE packaging was bad & delivery late.\"\n",
        "    ]\n",
        "}\n",
        "\n",
        "df = pd.DataFrame(data)\n",
        "\n",
        "print(\"Original Data:\")\n",
        "print(df)\n",
        "print(\"\\n\")\n",
        "\n",
        "# Step 1: Handle missing values\n",
        "df = df.dropna()\n",
        "print(\"After removing missing values:\")\n",
        "print(df)\n",
        "print(\"\\n\")\n",
        "\n",
        "# Step 2: Remove duplicates\n",
        "df = df.drop_duplicates()\n",
        "print(\"After removing duplicates:\")\n",
        "print(df)\n",
        "print(\"\\n\")\n",
        "\n",
        "# Step 3: Convert text to lowercase\n",
        "df['cleaned'] = df['review'].str.lower()\n",
        "print(\"After converting to lowercase:\")\n",
        "print(df[['review', 'cleaned']])\n",
        "print(\"\\n\")\n",
        "\n",
        "# Step 4: Remove punctuation\n",
        "df['cleaned'] = df['cleaned'].str.translate(str.maketrans('', '', string.punctuation))\n",
        "print(\"After removing punctuation:\")\n",
        "print(df[['review', 'cleaned']])\n",
        "print(\"\\n\")\n",
        "\n",
        "# Step 5: Remove stopwords\n",
        "def remove_stopwords(text):\n",
        "    return ' '.join([word for word in text.split() if word not in ENGLISH_STOP_WORDS])\n",
        "\n",
        "df['cleaned'] = df['cleaned'].apply(remove_stopwords)\n",
        "print(\"After removing stopwords:\")\n",
        "print(df[['review', 'cleaned']])"
      ],
      "metadata": {
        "id": "_OzJQbzPe3vN"
      },
      "execution_count": null,
      "outputs": []
    }
  ]
}
